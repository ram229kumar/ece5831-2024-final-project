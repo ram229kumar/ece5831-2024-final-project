{
 "cells": [
  {
   "cell_type": "code",
   "execution_count": 2,
   "metadata": {},
   "outputs": [
    {
     "name": "stdout",
     "output_type": "stream",
     "text": [
      "Requirement already satisfied: transformers in c:\\users\\ramku\\anaconda3\\envs\\teachable-python-ece5831-2024\\lib\\site-packages (4.47.0)\n",
      "Requirement already satisfied: filelock in c:\\users\\ramku\\anaconda3\\envs\\teachable-python-ece5831-2024\\lib\\site-packages (from transformers) (3.13.1)\n",
      "Requirement already satisfied: huggingface-hub<1.0,>=0.24.0 in c:\\users\\ramku\\anaconda3\\envs\\teachable-python-ece5831-2024\\lib\\site-packages (from transformers) (0.24.6)\n",
      "Requirement already satisfied: numpy>=1.17 in c:\\users\\ramku\\anaconda3\\envs\\teachable-python-ece5831-2024\\lib\\site-packages (from transformers) (1.24.3)\n",
      "Requirement already satisfied: packaging>=20.0 in c:\\users\\ramku\\anaconda3\\envs\\teachable-python-ece5831-2024\\lib\\site-packages (from transformers) (24.1)\n",
      "Requirement already satisfied: pyyaml>=5.1 in c:\\users\\ramku\\anaconda3\\envs\\teachable-python-ece5831-2024\\lib\\site-packages (from transformers) (6.0.2)\n",
      "Requirement already satisfied: regex!=2019.12.17 in c:\\users\\ramku\\anaconda3\\envs\\teachable-python-ece5831-2024\\lib\\site-packages (from transformers) (2024.9.11)\n",
      "Requirement already satisfied: requests in c:\\users\\ramku\\anaconda3\\envs\\teachable-python-ece5831-2024\\lib\\site-packages (from transformers) (2.32.3)\n",
      "Requirement already satisfied: tokenizers<0.22,>=0.21 in c:\\users\\ramku\\anaconda3\\envs\\teachable-python-ece5831-2024\\lib\\site-packages (from transformers) (0.21.0)\n",
      "Requirement already satisfied: safetensors>=0.4.1 in c:\\users\\ramku\\anaconda3\\envs\\teachable-python-ece5831-2024\\lib\\site-packages (from transformers) (0.4.5)\n",
      "Requirement already satisfied: tqdm>=4.27 in c:\\users\\ramku\\anaconda3\\envs\\teachable-python-ece5831-2024\\lib\\site-packages (from transformers) (4.66.5)\n",
      "Requirement already satisfied: fsspec>=2023.5.0 in c:\\users\\ramku\\anaconda3\\envs\\teachable-python-ece5831-2024\\lib\\site-packages (from huggingface-hub<1.0,>=0.24.0->transformers) (2024.3.1)\n",
      "Requirement already satisfied: typing-extensions>=3.7.4.3 in c:\\users\\ramku\\anaconda3\\envs\\teachable-python-ece5831-2024\\lib\\site-packages (from huggingface-hub<1.0,>=0.24.0->transformers) (4.11.0)\n",
      "Requirement already satisfied: colorama in c:\\users\\ramku\\anaconda3\\envs\\teachable-python-ece5831-2024\\lib\\site-packages (from tqdm>=4.27->transformers) (0.4.6)\n",
      "Requirement already satisfied: charset-normalizer<4,>=2 in c:\\users\\ramku\\anaconda3\\envs\\teachable-python-ece5831-2024\\lib\\site-packages (from requests->transformers) (3.3.2)\n",
      "Requirement already satisfied: idna<4,>=2.5 in c:\\users\\ramku\\anaconda3\\envs\\teachable-python-ece5831-2024\\lib\\site-packages (from requests->transformers) (3.10)\n",
      "Requirement already satisfied: urllib3<3,>=1.21.1 in c:\\users\\ramku\\anaconda3\\envs\\teachable-python-ece5831-2024\\lib\\site-packages (from requests->transformers) (2.2.3)\n",
      "Requirement already satisfied: certifi>=2017.4.17 in c:\\users\\ramku\\anaconda3\\envs\\teachable-python-ece5831-2024\\lib\\site-packages (from requests->transformers) (2024.8.30)\n",
      "Note: you may need to restart the kernel to use updated packages.\n",
      "Collecting accelerate\n",
      "  Using cached accelerate-1.2.0-py3-none-any.whl.metadata (19 kB)\n",
      "Requirement already satisfied: numpy<3.0.0,>=1.17 in c:\\users\\ramku\\anaconda3\\envs\\teachable-python-ece5831-2024\\lib\\site-packages (from accelerate) (1.24.3)\n",
      "Requirement already satisfied: packaging>=20.0 in c:\\users\\ramku\\anaconda3\\envs\\teachable-python-ece5831-2024\\lib\\site-packages (from accelerate) (24.1)\n",
      "Requirement already satisfied: psutil in c:\\users\\ramku\\anaconda3\\envs\\teachable-python-ece5831-2024\\lib\\site-packages (from accelerate) (6.0.0)\n",
      "Requirement already satisfied: pyyaml in c:\\users\\ramku\\anaconda3\\envs\\teachable-python-ece5831-2024\\lib\\site-packages (from accelerate) (6.0.2)\n",
      "Requirement already satisfied: torch>=1.10.0 in c:\\users\\ramku\\anaconda3\\envs\\teachable-python-ece5831-2024\\lib\\site-packages (from accelerate) (2.3.1)\n",
      "Requirement already satisfied: huggingface-hub>=0.21.0 in c:\\users\\ramku\\anaconda3\\envs\\teachable-python-ece5831-2024\\lib\\site-packages (from accelerate) (0.24.6)\n",
      "Requirement already satisfied: safetensors>=0.4.3 in c:\\users\\ramku\\anaconda3\\envs\\teachable-python-ece5831-2024\\lib\\site-packages (from accelerate) (0.4.5)\n",
      "Requirement already satisfied: filelock in c:\\users\\ramku\\anaconda3\\envs\\teachable-python-ece5831-2024\\lib\\site-packages (from huggingface-hub>=0.21.0->accelerate) (3.13.1)\n",
      "Requirement already satisfied: fsspec>=2023.5.0 in c:\\users\\ramku\\anaconda3\\envs\\teachable-python-ece5831-2024\\lib\\site-packages (from huggingface-hub>=0.21.0->accelerate) (2024.3.1)\n",
      "Requirement already satisfied: requests in c:\\users\\ramku\\anaconda3\\envs\\teachable-python-ece5831-2024\\lib\\site-packages (from huggingface-hub>=0.21.0->accelerate) (2.32.3)\n",
      "Requirement already satisfied: tqdm>=4.42.1 in c:\\users\\ramku\\anaconda3\\envs\\teachable-python-ece5831-2024\\lib\\site-packages (from huggingface-hub>=0.21.0->accelerate) (4.66.5)\n",
      "Requirement already satisfied: typing-extensions>=3.7.4.3 in c:\\users\\ramku\\anaconda3\\envs\\teachable-python-ece5831-2024\\lib\\site-packages (from huggingface-hub>=0.21.0->accelerate) (4.11.0)\n",
      "Requirement already satisfied: sympy in c:\\users\\ramku\\anaconda3\\envs\\teachable-python-ece5831-2024\\lib\\site-packages (from torch>=1.10.0->accelerate) (1.13.2)\n",
      "Requirement already satisfied: networkx in c:\\users\\ramku\\anaconda3\\envs\\teachable-python-ece5831-2024\\lib\\site-packages (from torch>=1.10.0->accelerate) (3.3)\n",
      "Requirement already satisfied: jinja2 in c:\\users\\ramku\\anaconda3\\envs\\teachable-python-ece5831-2024\\lib\\site-packages (from torch>=1.10.0->accelerate) (3.1.4)\n",
      "Requirement already satisfied: colorama in c:\\users\\ramku\\anaconda3\\envs\\teachable-python-ece5831-2024\\lib\\site-packages (from tqdm>=4.42.1->huggingface-hub>=0.21.0->accelerate) (0.4.6)\n",
      "Requirement already satisfied: MarkupSafe>=2.0 in c:\\users\\ramku\\anaconda3\\envs\\teachable-python-ece5831-2024\\lib\\site-packages (from jinja2->torch>=1.10.0->accelerate) (2.1.3)\n",
      "Requirement already satisfied: charset-normalizer<4,>=2 in c:\\users\\ramku\\anaconda3\\envs\\teachable-python-ece5831-2024\\lib\\site-packages (from requests->huggingface-hub>=0.21.0->accelerate) (3.3.2)\n",
      "Requirement already satisfied: idna<4,>=2.5 in c:\\users\\ramku\\anaconda3\\envs\\teachable-python-ece5831-2024\\lib\\site-packages (from requests->huggingface-hub>=0.21.0->accelerate) (3.10)\n",
      "Requirement already satisfied: urllib3<3,>=1.21.1 in c:\\users\\ramku\\anaconda3\\envs\\teachable-python-ece5831-2024\\lib\\site-packages (from requests->huggingface-hub>=0.21.0->accelerate) (2.2.3)\n",
      "Requirement already satisfied: certifi>=2017.4.17 in c:\\users\\ramku\\anaconda3\\envs\\teachable-python-ece5831-2024\\lib\\site-packages (from requests->huggingface-hub>=0.21.0->accelerate) (2024.8.30)\n",
      "Requirement already satisfied: mpmath<1.4,>=1.1.0 in c:\\users\\ramku\\anaconda3\\envs\\teachable-python-ece5831-2024\\lib\\site-packages (from sympy->torch>=1.10.0->accelerate) (1.3.0)\n",
      "Using cached accelerate-1.2.0-py3-none-any.whl (336 kB)\n",
      "Installing collected packages: accelerate\n",
      "Successfully installed accelerate-1.2.0\n",
      "Note: you may need to restart the kernel to use updated packages.\n",
      "Requirement already satisfied: datasets in c:\\users\\ramku\\anaconda3\\envs\\teachable-python-ece5831-2024\\lib\\site-packages (2.19.1)Note: you may need to restart the kernel to use updated packages.\n",
      "\n",
      "Collecting datasets\n",
      "  Using cached datasets-3.2.0-py3-none-any.whl.metadata (20 kB)\n",
      "Requirement already satisfied: filelock in c:\\users\\ramku\\anaconda3\\envs\\teachable-python-ece5831-2024\\lib\\site-packages (from datasets) (3.13.1)\n",
      "Requirement already satisfied: numpy>=1.17 in c:\\users\\ramku\\anaconda3\\envs\\teachable-python-ece5831-2024\\lib\\site-packages (from datasets) (1.24.3)\n",
      "Requirement already satisfied: pyarrow>=15.0.0 in c:\\users\\ramku\\anaconda3\\envs\\teachable-python-ece5831-2024\\lib\\site-packages (from datasets) (17.0.0)\n",
      "Requirement already satisfied: dill<0.3.9,>=0.3.0 in c:\\users\\ramku\\anaconda3\\envs\\teachable-python-ece5831-2024\\lib\\site-packages (from datasets) (0.3.8)\n",
      "Requirement already satisfied: pandas in c:\\users\\ramku\\anaconda3\\envs\\teachable-python-ece5831-2024\\lib\\site-packages (from datasets) (2.2.3)\n",
      "Requirement already satisfied: requests>=2.32.2 in c:\\users\\ramku\\anaconda3\\envs\\teachable-python-ece5831-2024\\lib\\site-packages (from datasets) (2.32.3)\n",
      "Requirement already satisfied: tqdm>=4.66.3 in c:\\users\\ramku\\anaconda3\\envs\\teachable-python-ece5831-2024\\lib\\site-packages (from datasets) (4.66.5)\n",
      "Requirement already satisfied: xxhash in c:\\users\\ramku\\anaconda3\\envs\\teachable-python-ece5831-2024\\lib\\site-packages (from datasets) (2.0.2)\n",
      "Requirement already satisfied: multiprocess<0.70.17 in c:\\users\\ramku\\anaconda3\\envs\\teachable-python-ece5831-2024\\lib\\site-packages (from datasets) (0.70.15)\n",
      "Requirement already satisfied: fsspec<=2024.9.0,>=2023.1.0 in c:\\users\\ramku\\anaconda3\\envs\\teachable-python-ece5831-2024\\lib\\site-packages (from fsspec[http]<=2024.9.0,>=2023.1.0->datasets) (2024.3.1)\n",
      "Requirement already satisfied: aiohttp in c:\\users\\ramku\\anaconda3\\envs\\teachable-python-ece5831-2024\\lib\\site-packages (from datasets) (3.10.5)\n",
      "Requirement already satisfied: huggingface-hub>=0.23.0 in c:\\users\\ramku\\anaconda3\\envs\\teachable-python-ece5831-2024\\lib\\site-packages (from datasets) (0.24.6)\n",
      "Requirement already satisfied: packaging in c:\\users\\ramku\\anaconda3\\envs\\teachable-python-ece5831-2024\\lib\\site-packages (from datasets) (24.1)\n",
      "Requirement already satisfied: pyyaml>=5.1 in c:\\users\\ramku\\anaconda3\\envs\\teachable-python-ece5831-2024\\lib\\site-packages (from datasets) (6.0.2)\n",
      "Requirement already satisfied: aiohappyeyeballs>=2.3.0 in c:\\users\\ramku\\anaconda3\\envs\\teachable-python-ece5831-2024\\lib\\site-packages (from aiohttp->datasets) (2.4.3)\n",
      "Requirement already satisfied: aiosignal>=1.1.2 in c:\\users\\ramku\\anaconda3\\envs\\teachable-python-ece5831-2024\\lib\\site-packages (from aiohttp->datasets) (1.2.0)\n",
      "Requirement already satisfied: attrs>=17.3.0 in c:\\users\\ramku\\anaconda3\\envs\\teachable-python-ece5831-2024\\lib\\site-packages (from aiohttp->datasets) (24.2.0)\n",
      "Requirement already satisfied: frozenlist>=1.1.1 in c:\\users\\ramku\\anaconda3\\envs\\teachable-python-ece5831-2024\\lib\\site-packages (from aiohttp->datasets) (1.5.0)\n",
      "Requirement already satisfied: multidict<7.0,>=4.5 in c:\\users\\ramku\\anaconda3\\envs\\teachable-python-ece5831-2024\\lib\\site-packages (from aiohttp->datasets) (6.1.0)\n",
      "Requirement already satisfied: yarl<2.0,>=1.0 in c:\\users\\ramku\\anaconda3\\envs\\teachable-python-ece5831-2024\\lib\\site-packages (from aiohttp->datasets) (1.18.0)\n",
      "Requirement already satisfied: typing-extensions>=3.7.4.3 in c:\\users\\ramku\\anaconda3\\envs\\teachable-python-ece5831-2024\\lib\\site-packages (from huggingface-hub>=0.23.0->datasets) (4.11.0)\n",
      "Requirement already satisfied: charset-normalizer<4,>=2 in c:\\users\\ramku\\anaconda3\\envs\\teachable-python-ece5831-2024\\lib\\site-packages (from requests>=2.32.2->datasets) (3.3.2)\n",
      "Requirement already satisfied: idna<4,>=2.5 in c:\\users\\ramku\\anaconda3\\envs\\teachable-python-ece5831-2024\\lib\\site-packages (from requests>=2.32.2->datasets) (3.10)\n",
      "Requirement already satisfied: urllib3<3,>=1.21.1 in c:\\users\\ramku\\anaconda3\\envs\\teachable-python-ece5831-2024\\lib\\site-packages (from requests>=2.32.2->datasets) (2.2.3)\n",
      "Requirement already satisfied: certifi>=2017.4.17 in c:\\users\\ramku\\anaconda3\\envs\\teachable-python-ece5831-2024\\lib\\site-packages (from requests>=2.32.2->datasets) (2024.8.30)\n",
      "Requirement already satisfied: colorama in c:\\users\\ramku\\anaconda3\\envs\\teachable-python-ece5831-2024\\lib\\site-packages (from tqdm>=4.66.3->datasets) (0.4.6)\n",
      "Requirement already satisfied: python-dateutil>=2.8.2 in c:\\users\\ramku\\anaconda3\\envs\\teachable-python-ece5831-2024\\lib\\site-packages (from pandas->datasets) (2.9.0)\n",
      "Requirement already satisfied: pytz>=2020.1 in c:\\users\\ramku\\anaconda3\\envs\\teachable-python-ece5831-2024\\lib\\site-packages (from pandas->datasets) (2024.1)\n",
      "Requirement already satisfied: tzdata>=2022.7 in c:\\users\\ramku\\anaconda3\\envs\\teachable-python-ece5831-2024\\lib\\site-packages (from pandas->datasets) (2023.3)\n",
      "Requirement already satisfied: six>=1.5 in c:\\users\\ramku\\anaconda3\\envs\\teachable-python-ece5831-2024\\lib\\site-packages (from python-dateutil>=2.8.2->pandas->datasets) (1.16.0)\n",
      "Requirement already satisfied: propcache>=0.2.0 in c:\\users\\ramku\\anaconda3\\envs\\teachable-python-ece5831-2024\\lib\\site-packages (from yarl<2.0,>=1.0->aiohttp->datasets) (0.2.0)\n",
      "Using cached datasets-3.2.0-py3-none-any.whl (480 kB)\n",
      "Installing collected packages: datasets\n",
      "  Attempting uninstall: datasets\n",
      "    Found existing installation: datasets 2.19.1\n",
      "    Uninstalling datasets-2.19.1:\n",
      "      Successfully uninstalled datasets-2.19.1\n",
      "Successfully installed datasets-3.2.0\n",
      "Collecting bertviz\n",
      "  Using cached bertviz-1.4.0-py3-none-any.whl.metadata (19 kB)\n",
      "Requirement already satisfied: transformers>=2.0 in c:\\users\\ramku\\anaconda3\\envs\\teachable-python-ece5831-2024\\lib\\site-packages (from bertviz) (4.47.0)\n",
      "Requirement already satisfied: torch>=1.0 in c:\\users\\ramku\\anaconda3\\envs\\teachable-python-ece5831-2024\\lib\\site-packages (from bertviz) (2.3.1)\n",
      "Requirement already satisfied: tqdm in c:\\users\\ramku\\anaconda3\\envs\\teachable-python-ece5831-2024\\lib\\site-packages (from bertviz) (4.66.5)\n",
      "Collecting boto3 (from bertviz)\n",
      "  Using cached boto3-1.35.79-py3-none-any.whl.metadata (6.7 kB)\n",
      "Requirement already satisfied: requests in c:\\users\\ramku\\anaconda3\\envs\\teachable-python-ece5831-2024\\lib\\site-packages (from bertviz) (2.32.3)\n",
      "Requirement already satisfied: regex in c:\\users\\ramku\\anaconda3\\envs\\teachable-python-ece5831-2024\\lib\\site-packages (from bertviz) (2024.9.11)\n",
      "Requirement already satisfied: sentencepiece in c:\\users\\ramku\\anaconda3\\envs\\teachable-python-ece5831-2024\\lib\\site-packages (from bertviz) (0.2.0)\n",
      "Requirement already satisfied: filelock in c:\\users\\ramku\\anaconda3\\envs\\teachable-python-ece5831-2024\\lib\\site-packages (from torch>=1.0->bertviz) (3.13.1)\n",
      "Requirement already satisfied: typing-extensions>=4.8.0 in c:\\users\\ramku\\anaconda3\\envs\\teachable-python-ece5831-2024\\lib\\site-packages (from torch>=1.0->bertviz) (4.11.0)\n",
      "Requirement already satisfied: sympy in c:\\users\\ramku\\anaconda3\\envs\\teachable-python-ece5831-2024\\lib\\site-packages (from torch>=1.0->bertviz) (1.13.2)\n",
      "Requirement already satisfied: networkx in c:\\users\\ramku\\anaconda3\\envs\\teachable-python-ece5831-2024\\lib\\site-packages (from torch>=1.0->bertviz) (3.3)\n",
      "Requirement already satisfied: jinja2 in c:\\users\\ramku\\anaconda3\\envs\\teachable-python-ece5831-2024\\lib\\site-packages (from torch>=1.0->bertviz) (3.1.4)\n",
      "Requirement already satisfied: fsspec in c:\\users\\ramku\\anaconda3\\envs\\teachable-python-ece5831-2024\\lib\\site-packages (from torch>=1.0->bertviz) (2024.3.1)\n",
      "Requirement already satisfied: huggingface-hub<1.0,>=0.24.0 in c:\\users\\ramku\\anaconda3\\envs\\teachable-python-ece5831-2024\\lib\\site-packages (from transformers>=2.0->bertviz) (0.24.6)\n",
      "Requirement already satisfied: numpy>=1.17 in c:\\users\\ramku\\anaconda3\\envs\\teachable-python-ece5831-2024\\lib\\site-packages (from transformers>=2.0->bertviz) (1.24.3)\n",
      "Requirement already satisfied: packaging>=20.0 in c:\\users\\ramku\\anaconda3\\envs\\teachable-python-ece5831-2024\\lib\\site-packages (from transformers>=2.0->bertviz) (24.1)\n",
      "Requirement already satisfied: pyyaml>=5.1 in c:\\users\\ramku\\anaconda3\\envs\\teachable-python-ece5831-2024\\lib\\site-packages (from transformers>=2.0->bertviz) (6.0.2)\n",
      "Requirement already satisfied: tokenizers<0.22,>=0.21 in c:\\users\\ramku\\anaconda3\\envs\\teachable-python-ece5831-2024\\lib\\site-packages (from transformers>=2.0->bertviz) (0.21.0)\n",
      "Requirement already satisfied: safetensors>=0.4.1 in c:\\users\\ramku\\anaconda3\\envs\\teachable-python-ece5831-2024\\lib\\site-packages (from transformers>=2.0->bertviz) (0.4.5)\n",
      "Requirement already satisfied: colorama in c:\\users\\ramku\\anaconda3\\envs\\teachable-python-ece5831-2024\\lib\\site-packages (from tqdm->bertviz) (0.4.6)\n",
      "Collecting botocore<1.36.0,>=1.35.79 (from boto3->bertviz)\n",
      "  Using cached botocore-1.35.79-py3-none-any.whl.metadata (5.7 kB)\n",
      "Collecting jmespath<2.0.0,>=0.7.1 (from boto3->bertviz)\n",
      "  Downloading jmespath-1.0.1-py3-none-any.whl.metadata (7.6 kB)\n",
      "Collecting s3transfer<0.11.0,>=0.10.0 (from boto3->bertviz)\n",
      "  Using cached s3transfer-0.10.4-py3-none-any.whl.metadata (1.7 kB)\n",
      "Requirement already satisfied: charset-normalizer<4,>=2 in c:\\users\\ramku\\anaconda3\\envs\\teachable-python-ece5831-2024\\lib\\site-packages (from requests->bertviz) (3.3.2)\n",
      "Requirement already satisfied: idna<4,>=2.5 in c:\\users\\ramku\\anaconda3\\envs\\teachable-python-ece5831-2024\\lib\\site-packages (from requests->bertviz) (3.10)\n",
      "Requirement already satisfied: urllib3<3,>=1.21.1 in c:\\users\\ramku\\anaconda3\\envs\\teachable-python-ece5831-2024\\lib\\site-packages (from requests->bertviz) (2.2.3)\n",
      "Requirement already satisfied: certifi>=2017.4.17 in c:\\users\\ramku\\anaconda3\\envs\\teachable-python-ece5831-2024\\lib\\site-packages (from requests->bertviz) (2024.8.30)\n",
      "Requirement already satisfied: python-dateutil<3.0.0,>=2.1 in c:\\users\\ramku\\anaconda3\\envs\\teachable-python-ece5831-2024\\lib\\site-packages (from botocore<1.36.0,>=1.35.79->boto3->bertviz) (2.9.0)\n",
      "Requirement already satisfied: MarkupSafe>=2.0 in c:\\users\\ramku\\anaconda3\\envs\\teachable-python-ece5831-2024\\lib\\site-packages (from jinja2->torch>=1.0->bertviz) (2.1.3)\n",
      "Requirement already satisfied: mpmath<1.4,>=1.1.0 in c:\\users\\ramku\\anaconda3\\envs\\teachable-python-ece5831-2024\\lib\\site-packages (from sympy->torch>=1.0->bertviz) (1.3.0)\n",
      "Requirement already satisfied: six>=1.5 in c:\\users\\ramku\\anaconda3\\envs\\teachable-python-ece5831-2024\\lib\\site-packages (from python-dateutil<3.0.0,>=2.1->botocore<1.36.0,>=1.35.79->boto3->bertviz) (1.16.0)\n",
      "Using cached bertviz-1.4.0-py3-none-any.whl (157 kB)\n",
      "Using cached boto3-1.35.79-py3-none-any.whl (139 kB)\n",
      "Using cached botocore-1.35.79-py3-none-any.whl (13.3 MB)\n",
      "Downloading jmespath-1.0.1-py3-none-any.whl (20 kB)\n",
      "Using cached s3transfer-0.10.4-py3-none-any.whl (83 kB)\n",
      "Installing collected packages: jmespath, botocore, s3transfer, boto3, bertviz\n",
      "Successfully installed bertviz-1.4.0 boto3-1.35.79 botocore-1.35.79 jmespath-1.0.1 s3transfer-0.10.4\n",
      "Note: you may need to restart the kernel to use updated packages.\n",
      "Collecting umap-learn\n",
      "  Using cached umap_learn-0.5.7-py3-none-any.whl.metadata (21 kB)\n",
      "Requirement already satisfied: numpy>=1.17 in c:\\users\\ramku\\anaconda3\\envs\\teachable-python-ece5831-2024\\lib\\site-packages (from umap-learn) (1.24.3)\n",
      "Requirement already satisfied: scipy>=1.3.1 in c:\\users\\ramku\\anaconda3\\envs\\teachable-python-ece5831-2024\\lib\\site-packages (from umap-learn) (1.14.1)\n",
      "Collecting scikit-learn>=0.22 (from umap-learn)\n",
      "  Downloading scikit_learn-1.6.0-cp311-cp311-win_amd64.whl.metadata (15 kB)\n",
      "Collecting numba>=0.51.2 (from umap-learn)\n",
      "  Downloading numba-0.60.0-cp311-cp311-win_amd64.whl.metadata (2.8 kB)\n",
      "Collecting pynndescent>=0.5 (from umap-learn)\n",
      "  Using cached pynndescent-0.5.13-py3-none-any.whl.metadata (6.8 kB)\n",
      "Requirement already satisfied: tqdm in c:\\users\\ramku\\anaconda3\\envs\\teachable-python-ece5831-2024\\lib\\site-packages (from umap-learn) (4.66.5)\n",
      "Collecting llvmlite<0.44,>=0.43.0dev0 (from numba>=0.51.2->umap-learn)\n",
      "  Downloading llvmlite-0.43.0-cp311-cp311-win_amd64.whl.metadata (4.9 kB)\n",
      "Collecting joblib>=0.11 (from pynndescent>=0.5->umap-learn)\n",
      "  Downloading joblib-1.4.2-py3-none-any.whl.metadata (5.4 kB)\n",
      "Collecting threadpoolctl>=3.1.0 (from scikit-learn>=0.22->umap-learn)\n",
      "  Downloading threadpoolctl-3.5.0-py3-none-any.whl.metadata (13 kB)\n",
      "Requirement already satisfied: colorama in c:\\users\\ramku\\anaconda3\\envs\\teachable-python-ece5831-2024\\lib\\site-packages (from tqdm->umap-learn) (0.4.6)\n",
      "Using cached umap_learn-0.5.7-py3-none-any.whl (88 kB)\n",
      "Downloading numba-0.60.0-cp311-cp311-win_amd64.whl (2.7 MB)\n",
      "   ---------------------------------------- 0.0/2.7 MB ? eta -:--:--\n",
      "   ---------------------------------------- 2.7/2.7 MB 19.4 MB/s eta 0:00:00\n",
      "Using cached pynndescent-0.5.13-py3-none-any.whl (56 kB)\n",
      "Downloading scikit_learn-1.6.0-cp311-cp311-win_amd64.whl (11.1 MB)\n",
      "   ---------------------------------------- 0.0/11.1 MB ? eta -:--:--\n",
      "   -------------- ------------------------- 3.9/11.1 MB 18.1 MB/s eta 0:00:01\n",
      "   ----------------------------- ---------- 8.1/11.1 MB 19.3 MB/s eta 0:00:01\n",
      "   ---------------------------------------- 11.1/11.1 MB 18.8 MB/s eta 0:00:00\n",
      "Downloading joblib-1.4.2-py3-none-any.whl (301 kB)\n",
      "Downloading llvmlite-0.43.0-cp311-cp311-win_amd64.whl (28.1 MB)\n",
      "   ---------------------------------------- 0.0/28.1 MB ? eta -:--:--\n",
      "   ----- ---------------------------------- 3.9/28.1 MB 19.5 MB/s eta 0:00:02\n",
      "   ----------- ---------------------------- 8.4/28.1 MB 20.8 MB/s eta 0:00:01\n",
      "   ----------------- ---------------------- 12.1/28.1 MB 19.3 MB/s eta 0:00:01\n",
      "   -------------------- ------------------- 14.7/28.1 MB 18.5 MB/s eta 0:00:01\n",
      "   -------------------------- ------------- 18.6/28.1 MB 18.1 MB/s eta 0:00:01\n",
      "   ------------------------------- -------- 22.3/28.1 MB 18.1 MB/s eta 0:00:01\n",
      "   ------------------------------------ --- 25.4/28.1 MB 17.9 MB/s eta 0:00:01\n",
      "   ---------------------------------------  28.0/28.1 MB 17.4 MB/s eta 0:00:01\n",
      "   ---------------------------------------- 28.1/28.1 MB 16.8 MB/s eta 0:00:00\n",
      "Downloading threadpoolctl-3.5.0-py3-none-any.whl (18 kB)\n",
      "Installing collected packages: threadpoolctl, llvmlite, joblib, scikit-learn, numba, pynndescent, umap-learn\n",
      "Successfully installed joblib-1.4.2 llvmlite-0.43.0 numba-0.60.0 pynndescent-0.5.13 scikit-learn-1.6.0 threadpoolctl-3.5.0 umap-learn-0.5.7\n",
      "Note: you may need to restart the kernel to use updated packages.\n",
      "Requirement already satisfied: sentencepiece in c:\\users\\ramku\\anaconda3\\envs\\teachable-python-ece5831-2024\\lib\\site-packages (0.2.0)\n",
      "Note: you may need to restart the kernel to use updated packages.\n",
      "Requirement already satisfied: urllib3 in c:\\users\\ramku\\anaconda3\\envs\\teachable-python-ece5831-2024\\lib\\site-packages (2.2.3)\n",
      "Note: you may need to restart the kernel to use updated packages.\n",
      "Collecting py7zr\n",
      "  Using cached py7zr-0.22.0-py3-none-any.whl.metadata (16 kB)\n",
      "Collecting texttable (from py7zr)\n",
      "  Using cached texttable-1.7.0-py2.py3-none-any.whl.metadata (9.8 kB)\n",
      "Collecting pycryptodomex>=3.16.0 (from py7zr)\n",
      "  Using cached pycryptodomex-3.21.0-cp36-abi3-win_amd64.whl.metadata (3.4 kB)\n",
      "Collecting pyzstd>=0.15.9 (from py7zr)\n",
      "  Downloading pyzstd-0.16.2-cp311-cp311-win_amd64.whl.metadata (2.5 kB)\n",
      "Collecting pyppmd<1.2.0,>=1.1.0 (from py7zr)\n",
      "  Downloading pyppmd-1.1.0-cp311-cp311-win_amd64.whl.metadata (5.8 kB)\n",
      "Collecting pybcj<1.1.0,>=1.0.0 (from py7zr)\n",
      "  Downloading pybcj-1.0.2-cp311-cp311-win_amd64.whl.metadata (4.1 kB)\n",
      "Collecting multivolumefile>=0.2.3 (from py7zr)\n",
      "  Using cached multivolumefile-0.2.3-py3-none-any.whl.metadata (6.3 kB)\n",
      "Collecting inflate64<1.1.0,>=1.0.0 (from py7zr)\n",
      "  Downloading inflate64-1.0.0-cp311-cp311-win_amd64.whl.metadata (4.1 kB)\n",
      "Collecting brotli>=1.1.0 (from py7zr)\n",
      "  Downloading Brotli-1.1.0-cp311-cp311-win_amd64.whl.metadata (5.6 kB)\n",
      "Requirement already satisfied: psutil in c:\\users\\ramku\\anaconda3\\envs\\teachable-python-ece5831-2024\\lib\\site-packages (from py7zr) (6.0.0)\n",
      "Using cached py7zr-0.22.0-py3-none-any.whl (67 kB)\n",
      "Downloading Brotli-1.1.0-cp311-cp311-win_amd64.whl (357 kB)\n",
      "Downloading inflate64-1.0.0-cp311-cp311-win_amd64.whl (35 kB)\n",
      "Using cached multivolumefile-0.2.3-py3-none-any.whl (17 kB)\n",
      "Downloading pybcj-1.0.2-cp311-cp311-win_amd64.whl (24 kB)\n",
      "Using cached pycryptodomex-3.21.0-cp36-abi3-win_amd64.whl (1.8 MB)\n",
      "Downloading pyppmd-1.1.0-cp311-cp311-win_amd64.whl (46 kB)\n",
      "Downloading pyzstd-0.16.2-cp311-cp311-win_amd64.whl (245 kB)\n",
      "Using cached texttable-1.7.0-py2.py3-none-any.whl (10 kB)\n",
      "Installing collected packages: texttable, brotli, pyzstd, pyppmd, pycryptodomex, pybcj, multivolumefile, inflate64, py7zr\n",
      "  Attempting uninstall: brotli\n",
      "    Found existing installation: Brotli 1.0.9\n",
      "    Uninstalling Brotli-1.0.9:\n",
      "      Successfully uninstalled Brotli-1.0.9\n",
      "Successfully installed brotli-1.1.0 inflate64-1.0.0 multivolumefile-0.2.3 py7zr-0.22.0 pybcj-1.0.2 pycryptodomex-3.21.0 pyppmd-1.1.0 pyzstd-0.16.2 texttable-1.7.0\n",
      "Note: you may need to restart the kernel to use updated packages.\n"
     ]
    }
   ],
   "source": [
    "%pip install -U transformers\n",
    "%pip install -U accelerate\n",
    "%pip install -U datasets\n",
    "%pip install -U bertviz\n",
    "%pip install -U umap-learn\n",
    "%pip install -U sentencepiece\n",
    "%pip install -U urllib3\n",
    "%pip install py7zr"
   ]
  },
  {
   "cell_type": "markdown",
   "metadata": {},
   "source": [
    "For Restarting and reloading"
   ]
  },
  {
   "cell_type": "code",
   "execution_count": 33,
   "metadata": {},
   "outputs": [],
   "source": [
    "%reload_ext autoreload\n",
    "%autoreload 2"
   ]
  },
  {
   "cell_type": "code",
   "execution_count": 34,
   "metadata": {},
   "outputs": [],
   "source": [
    "from datasets import load_dataset"
   ]
  },
  {
   "cell_type": "code",
   "execution_count": 35,
   "metadata": {},
   "outputs": [],
   "source": [
    "dataset = load_dataset(\"abisee/cnn_dailymail\", \"3.0.0\")"
   ]
  },
  {
   "cell_type": "code",
   "execution_count": 36,
   "metadata": {},
   "outputs": [
    {
     "data": {
      "text/plain": [
       "DatasetDict({\n",
       "    train: Dataset({\n",
       "        features: ['article', 'highlights', 'id'],\n",
       "        num_rows: 287113\n",
       "    })\n",
       "    validation: Dataset({\n",
       "        features: ['article', 'highlights', 'id'],\n",
       "        num_rows: 13368\n",
       "    })\n",
       "    test: Dataset({\n",
       "        features: ['article', 'highlights', 'id'],\n",
       "        num_rows: 11490\n",
       "    })\n",
       "})"
      ]
     },
     "execution_count": 36,
     "metadata": {},
     "output_type": "execute_result"
    }
   ],
   "source": [
    "dataset"
   ]
  },
  {
   "cell_type": "code",
   "execution_count": 37,
   "metadata": {},
   "outputs": [
    {
     "data": {
      "text/plain": [
       "'Editor\\'s note: In our Behind the Scenes series, CNN correspondents share their experiences in covering news and analyze the stories behind the events. Here, Soledad O\\'Brien takes users inside a jail where many of the inmates are mentally ill. An inmate housed on the \"forgotten floor,\" where many men'"
      ]
     },
     "execution_count": 37,
     "metadata": {},
     "output_type": "execute_result"
    }
   ],
   "source": [
    "dataset['train'][1]['article'][:300]"
   ]
  },
  {
   "cell_type": "code",
   "execution_count": 38,
   "metadata": {},
   "outputs": [
    {
     "data": {
      "text/plain": [
       "'Mentally ill inmates in Miami are housed on the \"forgotten floor\"\\nJudge Steven Leifman says most are there as a result of \"avoidable felonies\"\\nWhile CNN tours facility, patient shouts: \"I am the son of the president\"\\nLeifman says the system is unjust and he\\'s fighting for change .'"
      ]
     },
     "execution_count": 38,
     "metadata": {},
     "output_type": "execute_result"
    }
   ],
   "source": [
    "dataset['train'][1]['highlights']"
   ]
  },
  {
   "cell_type": "code",
   "execution_count": 39,
   "metadata": {},
   "outputs": [],
   "source": [
    "from transformers import pipeline"
   ]
  },
  {
   "cell_type": "code",
   "execution_count": 40,
   "metadata": {},
   "outputs": [
    {
     "name": "stderr",
     "output_type": "stream",
     "text": [
      "Device set to use cpu\n"
     ]
    }
   ],
   "source": [
    "pipe = pipeline(\"text-generation\",model=\"openai-community/gpt2-medium\")"
   ]
  },
  {
   "cell_type": "code",
   "execution_count": 59,
   "metadata": {},
   "outputs": [
    {
     "name": "stderr",
     "output_type": "stream",
     "text": [
      "Setting `pad_token_id` to `eos_token_id`:50256 for open-end generation.\n"
     ]
    }
   ],
   "source": [
    "dataset['train'][1]['article'][:1000]\n",
    "input_text = dataset['train'][1]['article'][:2000]\n",
    "\n",
    "query = input_text + \"\\nTL;DR:\\n\"\n",
    "\n",
    "pipe_out = pipe(query, max_length=512, clean_up_tokenization_spaces=True)"
   ]
  },
  {
   "cell_type": "code",
   "execution_count": 61,
   "metadata": {},
   "outputs": [
    {
     "data": {
      "text/plain": [
       "2000"
      ]
     },
     "execution_count": 61,
     "metadata": {},
     "output_type": "execute_result"
    }
   ],
   "source": [
    "len(input_text)"
   ]
  },
  {
   "cell_type": "code",
   "execution_count": 62,
   "metadata": {},
   "outputs": [
    {
     "data": {
      "text/plain": [
       "'Editor\\'s note: In our Behind the Scenes series, CNN correspondents share their experiences in covering news and analyze the stories behind the events. Here, Soledad O\\'Brien takes users inside a jail where many of the inmates are mentally ill. An inmate housed on the \"forgotten floor,\" where many mentally ill inmates are housed in Miami before trial. MIAMI, Florida (CNN) -- The ninth floor of the Miami-Dade pretrial detention facility is dubbed the \"forgotten floor.\" Here, inmates with the most severe mental illnesses are incarcerated until they\\'re ready to appear in court. Most often, they face drug charges or charges of assaulting an officer --charges that Judge Steven Leifman says are usually \"avoidable felonies.\" He says the arrests often result from confrontations with police. Mentally ill people often won\\'t do what they\\'re told when police arrive on the scene -- confrontation seems to exacerbate their illness and they become more paranoid, delusional, and less likely to follow directions, according to Leifman. So, they end up on the ninth floor severely mentally disturbed, but not getting any real help because they\\'re in jail. We toured the jail with Leifman. He is well known in Miami as an advocate for justice and the mentally ill. Even though we were not exactly welcomed with open arms by the guards, we were given permission to shoot videotape and tour the floor.  Go inside the \\'forgotten floor\\' » . At first, it\\'s hard to determine where the people are. The prisoners are wearing sleeveless robes. Imagine cutting holes for arms and feet in a heavy wool sleeping bag -- that\\'s kind of what they look like. They\\'re designed to keep the mentally ill patients from injuring themselves. That\\'s also why they have no shoes, laces or mattresses. Leifman says about one-third of all people in Miami-Dade county jails are mentally ill. So, he says, the sheer volume is overwhelming the system, and the result is what we see on the ninth floor. Of course, it is a jail, so it\\'s \\nTL;DR:\\nThe ninth floor of the Miami-Dade county jail is called \"the for lost floor.\" The jail has been the scene of nearly fifty drug arrests since 2009, when a federal grand jury indicted five members of the Miami-Dade Precinct 10 gang for drug trafficking charges. In most of these cases, the drug charges were for nonviolent or no evidence of drug use -- which is'"
      ]
     },
     "execution_count": 62,
     "metadata": {},
     "output_type": "execute_result"
    }
   ],
   "source": [
    "pipe_out[0]['generated_text']"
   ]
  },
  {
   "cell_type": "code",
   "execution_count": 64,
   "metadata": {},
   "outputs": [
    {
     "data": {
      "text/plain": [
       "'The ninth floor of the Miami-Dade county jail is called \"the for lost floor.\" The jail has been the scene of nearly fifty drug arrests since 2009, when a federal grand jury indicted five members of the Miami-Dade Precinct 10 gang for drug trafficking charges. In most of these cases, the drug charges were for nonviolent or no evidence of drug use -- which is'"
      ]
     },
     "execution_count": 64,
     "metadata": {},
     "output_type": "execute_result"
    }
   ],
   "source": [
    "pipe_out[0]['generated_text'][len(query):]"
   ]
  },
  {
   "cell_type": "code",
   "execution_count": 65,
   "metadata": {},
   "outputs": [],
   "source": [
    "summaries = {}\n",
    "summaries['gpt2-medium-380M'] = pipe_out[0]['generated_text'][len(query):]"
   ]
  },
  {
   "cell_type": "code",
   "execution_count": 66,
   "metadata": {},
   "outputs": [
    {
     "name": "stderr",
     "output_type": "stream",
     "text": [
      "Device set to use cpu\n"
     ]
    }
   ],
   "source": [
    "pipe = pipeline('summarization', model='t5-base')"
   ]
  },
  {
   "cell_type": "code",
   "execution_count": 67,
   "metadata": {},
   "outputs": [],
   "source": [
    "pipe_out = pipe(input_text)"
   ]
  },
  {
   "cell_type": "code",
   "execution_count": 68,
   "metadata": {},
   "outputs": [],
   "source": [
    "summaries['t5-base-223M'] = pipe_out[0]['summary_text']"
   ]
  },
  {
   "cell_type": "code",
   "execution_count": 69,
   "metadata": {},
   "outputs": [
    {
     "data": {
      "text/plain": [
       "'mentally ill inmates housed on the \"forgotten floor\" of a pretrial detention facility in florida . inmates with the most severe mental illnesses are incarcerated until they\\'re ready to appear . a judge says the arrests often result from confrontations with police . mentally ill people often won\\'t do what police say, judge says .'"
      ]
     },
     "execution_count": 69,
     "metadata": {},
     "output_type": "execute_result"
    }
   ],
   "source": [
    "summaries['t5-base-223M']"
   ]
  },
  {
   "cell_type": "code",
   "execution_count": 70,
   "metadata": {},
   "outputs": [],
   "source": [
    "summaries['bart-large-cnn-400M'] = pipe_out[0]['summary_text']"
   ]
  },
  {
   "cell_type": "code",
   "execution_count": 71,
   "metadata": {},
   "outputs": [],
   "source": [
    "pipe_out = pipe(input_text)"
   ]
  },
  {
   "cell_type": "code",
   "execution_count": 72,
   "metadata": {},
   "outputs": [],
   "source": [
    "summaries['pegasus-cnn-568M'] = pipe_out[0]['summary_text']"
   ]
  },
  {
   "cell_type": "code",
   "execution_count": 73,
   "metadata": {},
   "outputs": [
    {
     "name": "stdout",
     "output_type": "stream",
     "text": [
      "GPT2-MEDIUM-380M\n",
      "The ninth floor of the Miami-Dade county jail is called \"the for lost floor.\" The jail has been the scene of nearly fifty drug arrests since 2009, when a federal grand jury indicted five members of the Miami-Dade Precinct 10 gang for drug trafficking charges. In most of these cases, the drug charges were for nonviolent or no evidence of drug use -- which is\n",
      "\n",
      "T5-BASE-223M\n",
      "mentally ill inmates housed on the \"forgotten floor\" of a pretrial detention facility in florida . inmates with the most severe mental illnesses are incarcerated until they're ready to appear . a judge says the arrests often result from confrontations with police . mentally ill people often won't do what police say, judge says .\n",
      "\n",
      "BART-LARGE-CNN-400M\n",
      "mentally ill inmates housed on the \"forgotten floor\" of a pretrial detention facility in florida . inmates with the most severe mental illnesses are incarcerated until they're ready to appear . a judge says the arrests often result from confrontations with police . mentally ill people often won't do what police say, judge says .\n",
      "\n",
      "PEGASUS-CNN-568M\n",
      "mentally ill inmates housed on the \"forgotten floor\" of a pretrial detention facility in florida . inmates with the most severe mental illnesses are incarcerated until they're ready to appear . a judge says the arrests often result from confrontations with police . mentally ill people often won't do what police say, judge says .\n",
      "\n"
     ]
    }
   ],
   "source": [
    "for model in summaries:\n",
    "  print(model.upper())\n",
    "  print(summaries[model])\n",
    "  print(\"\")"
   ]
  },
  {
   "cell_type": "code",
   "execution_count": 74,
   "metadata": {},
   "outputs": [],
   "source": [
    "from datasets import load_dataset\n",
    "from transformers import pipeline\n",
    "\n",
    "from transformers import AutoModelForSeq2SeqLM, AutoTokenizer\n",
    "import torch"
   ]
  },
  {
   "cell_type": "code",
   "execution_count": 75,
   "metadata": {},
   "outputs": [],
   "source": [
    "device = 'gpu'\n",
    "model_ckpt = 'facebook/bart-large-cnn'\n",
    "tokenizer = AutoTokenizer.from_pretrained(model_ckpt)\n",
    "model = AutoModelForSeq2SeqLM.from_pretrained(model_ckpt)"
   ]
  },
  {
   "cell_type": "code",
   "execution_count": 77,
   "metadata": {},
   "outputs": [
    {
     "name": "stderr",
     "output_type": "stream",
     "text": [
      "Generating train split: 100%|██████████| 14732/14732 [00:00<00:00, 28135.49 examples/s]\n",
      "Generating test split: 100%|██████████| 819/819 [00:00<00:00, 5372.56 examples/s]\n",
      "Generating validation split: 100%|██████████| 818/818 [00:00<00:00, 5222.58 examples/s]\n"
     ]
    },
    {
     "data": {
      "text/plain": [
       "DatasetDict({\n",
       "    train: Dataset({\n",
       "        features: ['id', 'dialogue', 'summary'],\n",
       "        num_rows: 14732\n",
       "    })\n",
       "    test: Dataset({\n",
       "        features: ['id', 'dialogue', 'summary'],\n",
       "        num_rows: 819\n",
       "    })\n",
       "    validation: Dataset({\n",
       "        features: ['id', 'dialogue', 'summary'],\n",
       "        num_rows: 818\n",
       "    })\n",
       "})"
      ]
     },
     "execution_count": 77,
     "metadata": {},
     "output_type": "execute_result"
    }
   ],
   "source": [
    "samsum = load_dataset('samsum',trust_remote_code=True)\n",
    "samsum"
   ]
  },
  {
   "cell_type": "code",
   "execution_count": 78,
   "metadata": {},
   "outputs": [
    {
     "data": {
      "text/plain": [
       "{'id': '13818513',\n",
       " 'dialogue': \"Amanda: I baked  cookies. Do you want some?\\r\\nJerry: Sure!\\r\\nAmanda: I'll bring you tomorrow :-)\",\n",
       " 'summary': 'Amanda baked cookies and will bring Jerry some tomorrow.'}"
      ]
     },
     "execution_count": 78,
     "metadata": {},
     "output_type": "execute_result"
    }
   ],
   "source": [
    "samsum['train'][0]"
   ]
  },
  {
   "cell_type": "code",
   "execution_count": 79,
   "metadata": {},
   "outputs": [],
   "source": [
    "dialogueLen = [len(x['dialogue'].split()) for x in samsum['train']]\n",
    "summaryLen = [len(x['summary'].split()) for x in samsum['train']]"
   ]
  },
  {
   "cell_type": "code",
   "execution_count": 80,
   "metadata": {},
   "outputs": [
    {
     "data": {
      "text/plain": [
       "array([[<Axes: title={'center': 'Dialogue Length'}>,\n",
       "        <Axes: title={'center': 'Summary Length'}>]], dtype=object)"
      ]
     },
     "execution_count": 80,
     "metadata": {},
     "output_type": "execute_result"
    },
    {
     "data": {
      "image/png": "[encoded data removed]",
      "text/plain": [
       "<Figure size 1500x500 with 2 Axes>"
      ]
     },
     "metadata": {},
     "output_type": "display_data"
    }
   ],
   "source": [
    "import pandas as pd\n",
    "\n",
    "data = pd.DataFrame([dialogueLen, summaryLen]).T\n",
    "data.columns = ['Dialogue Length', 'Summary Length']\n",
    "\n",
    "data.hist(figsize=(15,5))"
   ]
  },
  {
   "cell_type": "code",
   "execution_count": 81,
   "metadata": {},
   "outputs": [],
   "source": [
    "def get_feature(batch):\n",
    "  encodings = tokenizer(batch['dialogue'], text_target=batch['summary'],\n",
    "                        max_length=1024, truncation=True)\n",
    "\n",
    "  encodings = {'input_ids': encodings['input_ids'],\n",
    "               'attention_mask': encodings['attention_mask'],\n",
    "               'labels': encodings['labels']}\n",
    "\n",
    "  return encodings"
   ]
  },
  {
   "cell_type": "code",
   "execution_count": 82,
   "metadata": {},
   "outputs": [
    {
     "name": "stderr",
     "output_type": "stream",
     "text": [
      "Map: 100%|██████████| 14732/14732 [00:02<00:00, 7274.78 examples/s]\n",
      "Map: 100%|██████████| 819/819 [00:00<00:00, 7268.08 examples/s]\n",
      "Map: 100%|██████████| 818/818 [00:00<00:00, 5787.53 examples/s]\n"
     ]
    }
   ],
   "source": [
    "samsum_pt = samsum.map(get_feature, batched=True)"
   ]
  },
  {
   "cell_type": "code",
   "execution_count": 83,
   "metadata": {},
   "outputs": [
    {
     "data": {
      "text/plain": [
       "DatasetDict({\n",
       "    train: Dataset({\n",
       "        features: ['id', 'dialogue', 'summary', 'input_ids', 'attention_mask', 'labels'],\n",
       "        num_rows: 14732\n",
       "    })\n",
       "    test: Dataset({\n",
       "        features: ['id', 'dialogue', 'summary', 'input_ids', 'attention_mask', 'labels'],\n",
       "        num_rows: 819\n",
       "    })\n",
       "    validation: Dataset({\n",
       "        features: ['id', 'dialogue', 'summary', 'input_ids', 'attention_mask', 'labels'],\n",
       "        num_rows: 818\n",
       "    })\n",
       "})"
      ]
     },
     "execution_count": 83,
     "metadata": {},
     "output_type": "execute_result"
    }
   ],
   "source": [
    "samsum_pt"
   ]
  },
  {
   "cell_type": "code",
   "execution_count": 84,
   "metadata": {},
   "outputs": [],
   "source": [
    "columns = ['input_ids', 'labels', 'attention_mask']\n",
    "samsum_pt.set_format(type='torch', columns=columns)"
   ]
  },
  {
   "cell_type": "code",
   "execution_count": 85,
   "metadata": {},
   "outputs": [],
   "source": [
    "from transformers import DataCollatorForSeq2Seq\n",
    "data_collator = DataCollatorForSeq2Seq(tokenizer, model=model)"
   ]
  },
  {
   "cell_type": "code",
   "execution_count": 86,
   "metadata": {},
   "outputs": [
    {
     "name": "stderr",
     "output_type": "stream",
     "text": [
      "c:\\Users\\ramku\\anaconda3\\envs\\teachable-python-ece5831-2024\\Lib\\site-packages\\transformers\\training_args.py:1575: FutureWarning: `evaluation_strategy` is deprecated and will be removed in version 4.46 of 🤗 Transformers. Use `eval_strategy` instead\n",
      "  warnings.warn(\n",
      "C:\\Users\\ramku\\AppData\\Local\\Temp\\ipykernel_11608\\870334682.py:17: FutureWarning: `tokenizer` is deprecated and will be removed in version 5.0.0 for `Trainer.__init__`. Use `processing_class` instead.\n",
      "  trainer = Trainer(model=model, args=training_args, tokenizer=tokenizer, data_collator=data_collator, train_dataset = samsum_pt['train'], eval_dataset = samsum_pt['validation'])\n"
     ]
    }
   ],
   "source": [
    "from transformers import TrainingArguments, Trainer\n",
    "\n",
    "training_args = TrainingArguments(\n",
    "    output_dir = 'bart_samsum',\n",
    "    num_train_epochs=1,\n",
    "    warmup_steps = 500,\n",
    "    per_device_train_batch_size=4,\n",
    "    per_device_eval_batch_size=4,\n",
    "    weight_decay = 0.01,\n",
    "    logging_steps = 10,\n",
    "    evaluation_strategy = 'steps',\n",
    "    eval_steps=500,\n",
    "    save_steps=1e6,\n",
    "    gradient_accumulation_steps=16\n",
    ")\n",
    "\n",
    "trainer = Trainer(model=model, args=training_args, tokenizer=tokenizer, data_collator=data_collator, train_dataset = samsum_pt['train'], eval_dataset = samsum_pt['validation'])"
   ]
  },
  {
   "cell_type": "code",
   "execution_count": null,
   "metadata": {},
   "outputs": [
    {
     "name": "stderr",
     "output_type": "stream",
     "text": [
      "  0%|          | 0/230 [00:00<?, ?it/s]c:\\Users\\ramku\\anaconda3\\envs\\teachable-python-ece5831-2024\\Lib\\site-packages\\transformers\\data\\data_collator.py:657: UserWarning: Creating a tensor from a list of numpy.ndarrays is extremely slow. Please consider converting the list to a single numpy.ndarray with numpy.array() before converting to a tensor. (Triggered internally at C:\\b\\abs_fakvb73nko\\croot\\pytorch-select_1730848725921\\work\\torch\\csrc\\utils\\tensor_new.cpp:277.)\n",
      "  batch[\"labels\"] = torch.tensor(batch[\"labels\"], dtype=torch.int64)\n",
      "  3%|▎         | 6/230 [21:09<14:21:13, 230.68s/it]"
     ]
    }
   ],
   "source": [
    "trainer.train()"
   ]
  }
 ],
 "metadata": {
  "kernelspec": {
   "display_name": "teachable-python-ece5831-2024",
   "language": "python",
   "name": "python3"
  },
  "language_info": {
   "codemirror_mode": {
    "name": "ipython",
    "version": 3
   },
   "file_extension": ".py",
   "mimetype": "text/x-python",
   "name": "python",
   "nbconvert_exporter": "python",
   "pygments_lexer": "ipython3",
   "version": "3.11.7"
  }
 },
 "nbformat": 4,
 "nbformat_minor": 2
}
